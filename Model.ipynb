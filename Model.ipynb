{
 "cells": [
  {
   "cell_type": "code",
   "execution_count": 1,
   "id": "564fa876",
   "metadata": {},
   "outputs": [],
   "source": [
    "from huggingface_hub import notebook_login\n",
    "from datasets import load_dataset\n",
    "from transformers import AutoTokenizer\n",
    "from transformers import AutoModelForSeq2SeqLM, Seq2SeqTrainingArguments, Seq2SeqTrainer\n",
    "from transformers import DataCollatorForSeq2Seq\n",
    "import evaluate\n",
    "import numpy as np\n",
    "from transformers import pipeline"
   ]
  },
  {
   "cell_type": "code",
   "execution_count": 2,
   "id": "33ab3b0b",
   "metadata": {},
   "outputs": [
    {
     "name": "stdout",
     "output_type": "stream",
     "text": [
      "Token is valid.\n",
      "Your token has been saved in your configured git credential helpers (manager).\n",
      "Your token has been saved to C:\\Users\\arjun\\.cache\\huggingface\\token\n",
      "Login successful\n"
     ]
    }
   ],
   "source": [
    "notebook_login()"
   ]
  },
  {
   "cell_type": "code",
   "execution_count": 3,
   "id": "fed9ca43",
   "metadata": {
    "scrolled": true
   },
   "outputs": [
    {
     "name": "stderr",
     "output_type": "stream",
     "text": [
      "Found cached dataset billsum (C:/Users/arjun/.cache/huggingface/datasets/billsum/default/3.0.0/75cf1719d38d6553aa0e0714c393c74579b083ae6e164b2543684e3e92e0c4cc)\n"
     ]
    }
   ],
   "source": [
    "billsum = load_dataset(\"billsum\", split=\"ca_test\")"
   ]
  },
  {
   "cell_type": "code",
   "execution_count": 4,
   "id": "50b560ca",
   "metadata": {},
   "outputs": [
    {
     "data": {
      "text/plain": [
       "{'text': 'The people of the State of California do enact as follows:\\n\\n\\nSECTION 1.\\nThe Legislature finds and declares all of the following:\\n(a) (1) Since 1899 congressionally chartered veterans’ organizations have provided a valuable service to our nation’s returning service members. These organizations help preserve the memories and incidents of the great hostilities fought by our nation, and preserve and strengthen comradeship among members.\\n(2) These veterans’ organizations also own and manage various properties including lodges, posts, and fraternal halls. These properties act as a safe haven where veterans of all ages and their families can gather together to find camaraderie and fellowship, share stories, and seek support from people who understand their unique experiences. This aids in the healing process for these returning veterans, and ensures their health and happiness.\\n(b) As a result of congressional chartering of these veterans’ organizations, the United States Internal Revenue Service created a special tax exemption for these organizations under Section 501(c)(19) of the Internal Revenue Code.\\n(c) Section 501(c)(19) of the Internal Revenue Code and related federal regulations provide for the exemption for posts or organizations of war veterans, or an auxiliary unit or society of, or a trust or foundation for, any such post or organization that, among other attributes, carries on programs to perpetuate the memory of deceased veterans and members of the Armed Forces and to comfort their survivors, conducts programs for religious, charitable, scientific, literary, or educational purposes, sponsors or participates in activities of a patriotic nature, and provides social and recreational activities for their members.\\n(d) Section 215.1 of the Revenue and Taxation Code stipulates that all buildings, support and so much of the real property on which the buildings are situated as may be required for the convenient use and occupation of the buildings, used exclusively for charitable purposes, owned by a veterans’ organization that has been chartered by the Congress of the United States, organized and operated for charitable purposes, when the same are used solely and exclusively for the purpose of the organization, if not conducted for profit and no part of the net earnings of which ensures to the benefit of any private individual or member thereof, are exempt from taxation.\\n(e) The Chief Counsel of the State Board of Equalization concluded, based on a 1979 appellate court decision, that only parts of American Legion halls are exempt from property taxation and that other parts, such as billiard rooms, card rooms, and similar areas, are not exempt.\\n(f) In a 1994 memorandum, the State Board of Equalization’s legal division further concluded that the areas normally considered eligible for exemptions are the office areas used to counsel veterans and the area used to store veterans’ records, but that the meeting hall and bar found in most of the facilities are not considered used for charitable purposes.\\n(g) Tax-exempt status is intended to provide economic incentive and support to veterans’ organizations to provide for the social welfare of the community of current and former military personnel.\\n(h) The State Board of Equalization’s constriction of the tax exemption has resulted in an onerous tax burden on California veteran service organizations posts or halls, hinders the posts’ ability to provide facilities for veterans, and threatens the economic viability of many local organizations.\\n(i) The charitable activities of a veteran service organizations post or hall are much more than the counseling of veterans. The requirements listed for qualification for the federal tax exemption clearly dictate a need for more than just an office.\\n(j) Programs to perpetuate the memory of deceased veterans and members of the Armed Forces and to comfort their survivors require the use of facilities for funerals and receptions.\\n(k) Programs for religious, charitable, scientific, literary, or educational purposes require space for more than 50 attendees.\\n(l) Activities of a patriotic nature need facilities to accommodate hundreds of people.\\n(m) Social and recreational activities for members require precisely those areas considered “not used for charitable purposes” by the State Board of Equalization.\\n(n) The State Board of Equalization’s interpretation of the Revenue and Taxation Code reflects a lack of understanding of the purpose and programs of the veterans service organizations posts or halls and is detrimental to the good works performed in support of our veteran community.\\nSECTION 1.\\nSEC. 2.\\nSection 215.1 of the Revenue and Taxation Code is amended to read:\\n215.1.\\n(a) All buildings, and so much of the real property on which the buildings are situated as may be required for the convenient use and occupation of the buildings, used exclusively for charitable purposes, owned by a veterans’ organization that has been chartered by the Congress of the United States, organized and operated for charitable purposes, and exempt from federal income tax as an organization described in Section 501(c)(19) of the Internal Revenue Code when the same are used solely and exclusively for the purpose of the organization, if not conducted for profit and no part of the net earnings of which inures to the benefit of any private individual or member thereof, shall be exempt from taxation.\\n(b) The exemption provided for in this section shall apply to the property of all organizations meeting the requirements of this section, subdivision (b) of Section 4 of Article XIII of the California Constitution, and paragraphs (1) to (4), inclusive, (6), and (7) of subdivision (a) of Section 214.\\n(c) (1) The exemption specified by subdivision (a) shall not be denied to a property on the basis that the property is used for fraternal, lodge, or social club purposes.\\n(2) With regard to this subdivision, the Legislature finds and declares all of the following:\\n(A) The exempt activities of a veterans’ organization as described in subdivision (a) qualitatively differ from the exempt activities of other nonprofit entities that use property for fraternal, lodge, or social club purposes in that the exempt purpose of the veterans’ organization is to conduct programs to perpetuate the memory of deceased veterans and members of the Armed Forces and to comfort their survivors, to conduct programs for religious, charitable, scientific, literary, or educational purposes, to sponsor or participate in activities of a patriotic nature, and to provide social and recreational activities for their members.\\n(B) In light of this distinction, the use of real property by a veterans’ organization as described in subdivision (a), for fraternal, lodge, or social club purposes is central to that organization’s exempt purposes and activities.\\n(C) In light of the factors set forth in subparagraphs (A) and (B), the use of real property by a veterans’ organization as described in subdivision (a) for fraternal, lodge, or social club purposes, constitutes the exclusive use of that property for a charitable purpose within the meaning of subdivision (b) of Section 4 of Article XIII of the California Constitution.\\n(d) The exemption provided for in this section shall not apply to any portion of a property that consists of a bar where alcoholic beverages are served. The portion of the property ineligible for the veterans’ organization exemption shall be that area used primarily to prepare and serve alcoholic beverages.\\n(e) An organization that files a claim for the exemption provided for in this section shall file with the assessor a valid organizational clearance certificate issued pursuant to Section 254.6.\\n(f) This exemption shall be known as the “veterans’ organization exemption.”\\nSEC. 2.\\nSEC. 3.\\nNotwithstanding Section 2229 of the Revenue and Taxation Code, no appropriation is made by this act and the state shall not reimburse any local agency for any property tax revenues lost by it pursuant to this act.\\nSEC. 3.\\nSEC. 4.\\nThis act provides for a tax levy within the meaning of Article IV of the Constitution and shall go into immediate effect.',\n",
       " 'summary': 'Existing property tax law establishes a veterans’ organization exemption under which property is exempt from taxation if, among other things, that property is used exclusively for charitable purposes and is owned by a veterans’ organization.\\nThis bill would provide that the veterans’ organization exemption shall not be denied to a property on the basis that the property is used for fraternal, lodge, or social club purposes, and would make specific findings and declarations in that regard. The bill would also provide that the exemption shall not apply to any portion of a property that consists of a bar where alcoholic beverages are served.\\nSection 2229 of the Revenue and Taxation Code requires the Legislature to reimburse local agencies annually for certain property tax revenues lost as a result of any exemption or classification of property for purposes of ad valorem property taxation.\\nThis bill would provide that, notwithstanding Section 2229 of the Revenue and Taxation Code, no appropriation is made and the state shall not reimburse local agencies for property tax revenues lost by them pursuant to the bill.\\nThis bill would take effect immediately as a tax levy.',\n",
       " 'title': 'An act to amend Section 215.1 of the Revenue and Taxation Code, relating to taxation, to take effect immediately, tax levy.'}"
      ]
     },
     "execution_count": 4,
     "metadata": {},
     "output_type": "execute_result"
    }
   ],
   "source": [
    "billsum[0]"
   ]
  },
  {
   "cell_type": "code",
   "execution_count": 5,
   "id": "470588c1",
   "metadata": {},
   "outputs": [],
   "source": [
    "billsum = billsum.select(range(10))"
   ]
  },
  {
   "cell_type": "code",
   "execution_count": 6,
   "id": "b58dff49",
   "metadata": {},
   "outputs": [],
   "source": [
    "billsum = billsum.remove_columns(\"title\")"
   ]
  },
  {
   "cell_type": "code",
   "execution_count": 7,
   "id": "7111b68a",
   "metadata": {},
   "outputs": [],
   "source": [
    "billsum = billsum.train_test_split(test_size=0.2)"
   ]
  },
  {
   "cell_type": "code",
   "execution_count": 8,
   "id": "47795c6f",
   "metadata": {},
   "outputs": [
    {
     "data": {
      "text/plain": [
       "{'text': 'The people of the State of California do enact as follows:\\n\\n\\nSECTION 1.\\nThe Legislature finds and declares as follows:\\n(a) More than $40 million of funding for the training of California’s primary care physicians is expiring in 2016.\\n(b) Each year in California, only 368 slots are available to the thousands of medical students seeking to train in family medicine. If the funding is not replaced, 158 of those slots will be lost, creating a terrible deficit of primary care physicians in California’s underserved communities.\\n(c) Only 36 percent of California’s active patient care physicians practice primary care. Twenty-three of California’s 58 counties fall below the minimum required primary care physician to population ratio.\\n(d) As of 2010, California needed an estimated additional 8,243 primary care physicians by 2030 to prevent projected shortages in the state, which is about 412 new primary care physicians per year.\\n(e) More than 32 percent of California’s practicing primary care physicians are 60 years of age or older – only four other states have a larger percentage of soon-to-retire physicians.\\n(f) States with higher ratios of primary care physicians to population have better health outcomes, including decreased mortality from cancer, heart disease, and stroke.\\n(g) The Song-Brown program provides an existing state infrastructure to support an increase in the number of primary care providers serving California’s underserved populations. By investing in Song-Brown, California will realize an immediate return on investment as each primary care resident provides an average of 600 additional patient visits per physician per year during training alone.\\n(h) California’s long-term workforce will also grow significantly as the vast majority of physicians who train in a region stay there to practice. California leads all fifty states in the percentage of residency program graduates who stay in the state in which they are trained.\\nSEC. 2.\\nNotwithstanding Section 13340 of the Government Code, there is hereby continuously appropriated from the General Fund the sum of three hundred million dollars ($300,000,000) to the Director of Statewide Health Planning and Development, for the purpose of funding new and existing graduate medical education physician residency positions, and supporting training faculty, pursuant to the Song-Brown Health Care Workforce Training Act (Article 1 (commencing with Section 128200) of Chapter 4 of Part 3 of Division 107 of the Health and Safety Code). The moneys shall be expended as follows:\\n(a) The sum of one hundred million dollars ($100,000,000) shall be expended in the 2016–17 fiscal year.\\n(b) The sum of one hundred million dollars ($100,000,000) shall be expended in the 2017–18 fiscal year.\\n(c) The sum of one hundred million dollars ($100,000,000) shall be expended in the 2018–19 fiscal year.\\nSECTION 1.\\nArticle 7 (commencing with Section 128590) is added to Chapter 5 of Part 3 of Division 107 of the\\nHealth and Safety Code\\n, to read:\\n7.\\nCalifornia Medical Residency Training Program\\n128590.\\nAs used in this article:\\n(a)“Director” means the Director of Statewide Health Planning and Development.\\n(b)“Foundation” means the Health Professions Education Foundation.\\n(c)“Fund” means the Medical Residency Training Fund.\\n(d)“Office” means the Office of Statewide Health Planning and Development.\\n(e)“Panel” means the Medical Residency Training Advisory Panel, established pursuant to Section 128591.\\n(f)“Primary care” means the medical practice areas of family medicine, general surgery, internal medicine, obstetrics and gynecology, pediatrics, psychiatry, and related specialties and subspecialties as the office deems appropriate.\\n(g)“Residency position” means a graduate medical education residency position in the field of primary care.\\n128591.\\n(a)(1)There is established within the foundation the Medical Residency Training Advisory Panel.\\n(2)The panel shall consist of 13 members. Seven members shall be appointed by the Governor, one member shall be appointed by the Speaker of the Assembly, one member shall be appointed by the Senate Committee on Rules, two members of the Medical Board of California shall be appointed by the Medical Board of California, and two members of the Osteopathic Medical Board of California shall be appointed by the Osteopathic Medical Board of California.\\n(3)The members of the panel appointed by the Governor, the Speaker of the Assembly, and the Senate Committee on Rules shall consist of representatives of designated and nondesignated public hospitals, private hospitals, community clinics, public and private health insurance providers, the pharmaceutical industry, associations of health care practitioners, and other appropriate members of health or related professions.\\n(4)All persons considered for appointment shall have an interest in increasing the number of medical residencies in the state, an interest in increasing access to health care in underserved areas of California, and the ability and desire to solicit funds for the purposes of this article, as determined by the appointing power.\\n(b)The Governor shall appoint the president of the panel from among those members appointed by the Governor, the Speaker of the Assembly, the Senate Committee on Rules, the Medical Board of California, and the Osteopathic Medical Board of California.\\n(c)(1)Of the members of the panel first appointed by the Governor, three members shall be appointed to serve a one-year term, three members shall be appointed to serve a two-year term, and one member shall be appointed to serve a three-year term.\\n(2)Each member of the panel first appointed by the Speaker of the Assembly and the Senate Committee on Rules shall be appointed to serve a three-year term.\\n(3)Each member of the panel appointed by the Medical Board of California and the Osteopathic Medical Board of California shall be appointed to serve a four-year term.\\n(4)Upon the expiration of the initial appointments to the panel by the Governor, the Speaker of the Assembly, the Senate Committee on Rules, the Medical Board of California, and the Osteopathic Medical Board of California, each member shall be appointed to serve a four-year term.\\n(d)(1)Members of the panel appointed by the Governor, the Speaker of the Assembly, and the Senate Committee on Rules shall serve without compensation, but shall be reimbursed for any actual and necessary expenses incurred in connection with their duties as members of the panel.\\n(2)The members appointed by the Medical Board of California and the Osteopathic Medical Board of California shall serve without compensation, but shall be reimbursed by the Medical Board of California and the Osteopathic Medical Board of California, respectively, for any actual and necessary expenses incurred in connection with their duties as members of the panel.\\n(e)Notwithstanding any law relating to incompatible activities, no member of the panel shall be considered to be engaged in activities inconsistent and incompatible with his or her duties solely as a result of membership on the Medical Board of California or the Osteopathic Medical Board of California.\\n(f)The panel shall be subject to the Nonprofit Public Benefit Corporation Law (Part 2 (commencing with Section 5110) of Division 2 of Title 2 of the Corporations Code), except that if there is a conflict with this article and the Nonprofit Public Benefit Corporation Law (Part 2 (commencing with Section 5110) of Division 2 of Title 2 of the Corporations Code), this article shall prevail.\\n128592.\\nThe panel shall do all of the following:\\n(a)Solicit and accept funds from business, industry, foundations, and other private or public sources for the purpose of establishing and funding new residency positions in areas of the state described in subdivision (c).\\n(b)Encourage public and private sector institutions, including hospitals, colleges, universities, community clinics, and other health agencies and organizations to identify and provide locations for the establishment of new residency positions in areas of the state described in subdivision (c). The panel shall solicit proposals for medical residency programs, as described in subdivision (c), and shall provide to the foundation a copy of all proposals it receives.\\n(c)Upon the sufficient solicitation of funds and at the panel’s discretion, recommend to the foundation the establishment of new residency positions. A recommendation shall include all pertinent information required to enter into the necessary contracts to establish the residency positions. The panel shall only approve and recommend to the foundation proposals that would establish residency positions that will serve in any of the following medical service areas:\\n(1)A service area that is designated as a primary care shortage area by the office.\\n(2)A service area that is designated as a health professional shortage area for primary care, by either population or geographic designation, by the Health Resources and Services Administration of the United States Department of Health and Human Services.\\n(3)A service area that is designated as a medically underserved area or medically underserved population by the Health Resources and Services Administration of the United States Department of Health and Human Services.\\n(d)Upon foundation approval of a recommendation, deposit into the fund necessary moneys required to establish and fund the residency position.\\n(e)Recommend to the director that a portion of the funds solicited from the private sector be used for the administrative requirements of the panel and the foundation.\\n(f)Prepare and submit an annual report to the Legislature documenting the amount of money solicited, the amount of money deposited by the panel into the fund, the recommendations for the location and fields of practice of residency positions, total expenditures for the year, and prospective fundraising goals.\\n128593.\\nThe foundation shall do all of the following:\\n(a)Provide technical and staff support to the panel in meeting all of its responsibilities.\\n(b)Upon receipt of a recommendation made by the panel pursuant to subdivision (c) of Section 128592, approve the recommendation if the recommendation fulfills the requirements of subdivision (c) of Section 128592 and the recommendation fulfills the goals of this article. Upon sufficient funds being available, an approval shall be sent to the office for implementation pursuant to Section 128594.\\n128594.\\nThe office shall do all of the following:\\n(a)Establish a uniform process by which the panel may solicit proposals from public and private sector institutions, including hospitals, colleges, universities, community clinics, and other health agencies and organizations that train primary care residents. The office shall require that the proposals contain all necessary and pertinent information, including, but not limited to, all of the following:\\n(1)The location of the proposed residency position.\\n(2)The medical practice area of the proposed residency position.\\n(3)Information that demonstrates the area’s need for the proposed residency position and for additional primary care practitioners.\\n(4)The amount of funding required to establish and operate the residency position.\\n(b)Enter into contracts with public and private sector institutions, including hospitals, colleges, universities, community clinics, and other health agencies and organizations in order to fund and establish residency positions at, or in association with, these institutions.\\n(c)Ensure that the residency position has been, or will be, approved by the Accreditation Council for Graduate Medical Education.\\n(d)Provide all of the following information to the panel and the foundation as requested:\\n(1)The areas of the state that are deficient in primary care services.\\n(2)The areas of the state that have the highest number of Medi-Cal enrollees and persons eligible to enroll in Medi-Cal, by proportion of population.\\n(3)Other information relevant to assist the panel and the foundation in making recommendations on possible locations for new residency positions.\\n(e)Monitor the residencies established pursuant to this article.\\n(f)(1)Prepare and submit an annual report to the panel, the foundation, and the Legislature documenting the amount of money contributed to the fund by the panel, the amount of money expended from the fund, the purposes of those expenditures, the number and location of residency positions established and funded, and recommendations for the location of future residency positions.\\n(2)The report pursuant to paragraph (1) shall be made to the Legislature pursuant to Section 9795 of the Government Code.\\n128595.\\n(a)The Medical Residency Training Fund is hereby created within the State Treasury.\\n(b)The primary purpose of the fund is to allocate funding for new residency positions throughout the state. Money in the fund shall also be used to pay for the cost of administering the goals of the panel and the foundation as established by this article, and for any other purpose authorized by this article.\\n(c)The level of expenditure by the office for the administrative support of the panel and the foundation is subject to review and approval annually through the state budget process.\\n(d)In addition to funds raised by the panel, the office and the foundation may solicit and accept public and private donations to be deposited into the fund. All money in the fund is continuously appropriated to the office for the purposes of this article. The office shall manage this fund prudently in accordance with applicable laws.\\n128596.\\nAny regulations the office adopts to implement this article shall be adopted as emergency regulations in accordance with Section 11346.1 of the Government Code, except that the regulations shall be exempt from the requirements of subdivisions (e), (f), and (g) of that section. The regulations shall be deemed to be emergency regulations for the purposes of Section 11346.1 of the Government Code.\\n128597.\\nNotwithstanding any other law, the office may exempt from public disclosure any document in the possession of the office that pertains to a donation made pursuant to this article if the donor has requested anonymity.\\n128598.\\n(a)The Governor may include in the annual budget proposal an amount, as he or she deems reasonable, to be appropriated to the office to be used as provided in this article.\\n(b)If the Legislature appropriates money for purposes of this article, the money shall be appropriated to the office, which shall hold the money for distribution to the fund.\\n(c)Funds appropriated to the office shall be paid into the fund, upon request of the panel, in an amount matching the amount deposited into the fund by the panel or by the foundation and office pursuant to subdivision (d) of Section 128595 for the purposes of this article. Any money that was appropriated to the office and that has not been distributed to the fund at the end of each fiscal year shall be returned to the General Fund.\\nSEC. 2.\\nThe Legislature finds and declares that Section 1 of this act, which adds Article 7 (commencing with Section 128590) to Chapter 5 of Part 3 of Division 107 of the Health and Safety Code, imposes a limitation on the public’s right of access to the meetings of public bodies or the writings of public officials and agencies within the meaning of Section 3 of Article I of the California Constitution. Pursuant to that constitutional provision, the Legislature makes the following findings to demonstrate the interest protected by this limitation and the need for protecting that interest:\\nThe need to protect individual privacy of donations made by a donor to fund new medical residency positions in underserved areas of the state outweighs the interest in the public disclosure of that information.',\n",
       " 'summary': 'The Song-Brown Health Care Workforce Training Act creates a state medical contract program to increase the number of students and residents receiving quality education and training in specified primary care specialties or in nursing, and to maximize the delivery of primary care and family physician services to specific areas of California where there is a recognized unmet priority need for those services. The act requires the Director of Statewide Health Planning and Development to, among other things, contract with accredited medical schools, teaching health centers, training programs, hospitals, and other health care delivery systems for those purposes, based on recommendations of the California Healthcare Workforce Policy Commission and in conformity with the contract criteria and program standards established by the commission.\\nThis bill would appropriate $300,000,000 from the General Fund to the director for the purpose of funding new and existing graduate medical education physician residency positions, and supporting training faculty, pursuant to the act, for expenditure as specified. The bill would also make related findings and declarations.\\nExisting law, the Song-Brown Health Care Workforce Training Act, declares the intent of the Legislature to increase the number of students and residents receiving quality education and training in the specialty of family practice and as primary care physician’s assistants and primary care nurse practitioners. Existing law establishes, for this purpose, a state medical contract program with accredited medical schools, programs that train primary care physician’s assistants, programs that train primary care nurse practitioners, registered nurses, hospitals, and other health care delivery systems.\\nExisting law requires the Office of Statewide Health Planning and Development to establish the Health Professions Education Foundation to solicit and receive funds for the purpose of providing financial assistance in the form of scholarships or loans to medical students from underrepresented groups. Under existing law, the foundation also administers other programs for the advancement of health professions, including the Registered Nurse Education Program.\\nThis bill would establish the Medical Residency Training Advisory Panel, consisting of a total of 13 members to be appointed as specified, within the Health Professions Education Foundation.\\nThe bill would create the Medical Residency Training Fund in the State Treasury, a continuously appropriated fund, and would require the panel to solicit and accept funds from business, industry, foundations, and other private or public sources for the purpose of establishing and funding new graduate medical residency training programs in specified areas of the state, including medically underserved areas. By creating a continuously appropriated fund, the bill would make an appropriation. The bill would require the foundation to provide technical support and financial management for the panel and to approve and send panel recommendations for new residency programs to the Office of Statewide Health Planning and Development for implementation if specified requirements are met, including sufficient funding. The bill would require the office to enter into contracts with public and private sector institutions and other health agencies and organizations in order to fund and establish recommended residency positions. The bill would authorize the Governor to include in the annual budget proposal an amount, as he or she deems reasonable, to be appropriated for this purpose. The bill, if the Legislature appropriates money for this purpose, would require the office to hold the funds and distribute them into the fund, upon request of the panel, in an amount matching the amount deposited into the fund, as specified. The bill would require money that was appropriated, but that has not been distributed to the fund at the end of each fiscal year, to be returned to the General Fund.\\nExisting constitutional provisions require that a statute that limits the right of access to the meetings of public bodies or the writings of public officials and agencies be adopted with findings demonstrating the interest protected by the limitation and the need for protecting that interest.\\nThis bill would make legislative findings to that effect.'}"
      ]
     },
     "execution_count": 8,
     "metadata": {},
     "output_type": "execute_result"
    }
   ],
   "source": [
    "billsum[\"train\"][0]"
   ]
  },
  {
   "cell_type": "code",
   "execution_count": 9,
   "id": "5d97107e",
   "metadata": {},
   "outputs": [
    {
     "name": "stderr",
     "output_type": "stream",
     "text": [
      "C:\\Users\\arjun\\anaconda3\\lib\\site-packages\\transformers\\models\\t5\\tokenization_t5_fast.py:155: FutureWarning: This tokenizer was incorrectly instantiated with a model max length of 512 which will be corrected in Transformers v5.\n",
      "For now, this behavior is kept to avoid breaking backwards compatibility when padding/encoding with `truncation is True`.\n",
      "- Be aware that you SHOULD NOT rely on t5-small automatically truncating your input to 512 when padding/encoding.\n",
      "- If you want to encode/pad to sequences longer than 512 you can either instantiate this tokenizer with `model_max_length` or pass `max_length` when encoding/padding.\n",
      "- To avoid this warning, please instantiate this tokenizer with `model_max_length` set to your preferred value.\n",
      "  warnings.warn(\n"
     ]
    }
   ],
   "source": [
    "tokenizer = AutoTokenizer.from_pretrained(\"t5-small\")"
   ]
  },
  {
   "cell_type": "code",
   "execution_count": 10,
   "id": "dcb186f1",
   "metadata": {},
   "outputs": [],
   "source": [
    "prefix = \"summarize: \"\n",
    "\n",
    "def preprocess_function(examples):\n",
    "    inputs = [prefix + doc for doc in examples[\"text\"]]\n",
    "    model_inputs = tokenizer(inputs, max_length=1024, truncation=True)\n",
    "\n",
    "    labels = tokenizer(text_target=examples[\"summary\"], max_length=128, truncation=True)\n",
    "\n",
    "    model_inputs[\"labels\"] = labels[\"input_ids\"]\n",
    "    return model_inputs"
   ]
  },
  {
   "cell_type": "code",
   "execution_count": 11,
   "id": "6146e174",
   "metadata": {},
   "outputs": [
    {
     "data": {
      "application/vnd.jupyter.widget-view+json": {
       "model_id": "c289ebaa6a8a4bff809530dd5f31a727",
       "version_major": 2,
       "version_minor": 0
      },
      "text/plain": [
       "  0%|          | 0/1 [00:00<?, ?ba/s]"
      ]
     },
     "metadata": {},
     "output_type": "display_data"
    },
    {
     "data": {
      "application/vnd.jupyter.widget-view+json": {
       "model_id": "e2cae656260247549e916ef0ab326a46",
       "version_major": 2,
       "version_minor": 0
      },
      "text/plain": [
       "  0%|          | 0/1 [00:00<?, ?ba/s]"
      ]
     },
     "metadata": {},
     "output_type": "display_data"
    }
   ],
   "source": [
    "tokenized_billsum = billsum.map(preprocess_function, batched=True)"
   ]
  },
  {
   "cell_type": "code",
   "execution_count": 12,
   "id": "dfb394f4",
   "metadata": {},
   "outputs": [
    {
     "data": {
      "application/vnd.jupyter.widget-view+json": {
       "model_id": "611887cf2a484caea3254378e950b32b",
       "version_major": 2,
       "version_minor": 0
      },
      "text/plain": [
       "Downloading (…)\"pytorch_model.bin\";:   0%|          | 0.00/242M [00:00<?, ?B/s]"
      ]
     },
     "metadata": {},
     "output_type": "display_data"
    },
    {
     "name": "stderr",
     "output_type": "stream",
     "text": [
      "C:\\Users\\arjun\\anaconda3\\lib\\site-packages\\huggingface_hub\\file_download.py:129: UserWarning: `huggingface_hub` cache-system uses symlinks by default to efficiently store duplicated files but your machine does not support them in C:\\Users\\arjun\\.cache\\huggingface\\hub. Caching files will still work but in a degraded version that might require more space on your disk. This warning can be disabled by setting the `HF_HUB_DISABLE_SYMLINKS_WARNING` environment variable. For more details, see https://huggingface.co/docs/huggingface_hub/how-to-cache#limitations.\n",
      "To support symlinks on Windows, you either need to activate Developer Mode or to run Python as an administrator. In order to see activate developer mode, see this article: https://docs.microsoft.com/en-us/windows/apps/get-started/enable-your-device-for-development\n",
      "  warnings.warn(message)\n"
     ]
    }
   ],
   "source": [
    "model = AutoModelForSeq2SeqLM.from_pretrained(\"t5-small\")"
   ]
  },
  {
   "cell_type": "code",
   "execution_count": 13,
   "id": "3601a96d",
   "metadata": {},
   "outputs": [],
   "source": [
    "data_collator = DataCollatorForSeq2Seq(tokenizer=tokenizer, model=model)"
   ]
  },
  {
   "cell_type": "code",
   "execution_count": 18,
   "id": "e201704e",
   "metadata": {},
   "outputs": [],
   "source": [
    "rouge = evaluate.load(\"rouge\")"
   ]
  },
  {
   "cell_type": "code",
   "execution_count": 19,
   "id": "784dc223",
   "metadata": {},
   "outputs": [],
   "source": [
    "def compute_metrics(eval_pred):\n",
    "    predictions, labels = eval_pred\n",
    "    decoded_preds = tokenizer.batch_decode(predictions, skip_special_tokens=True)\n",
    "    labels = np.where(labels != -100, labels, tokenizer.pad_token_id)\n",
    "    decoded_labels = tokenizer.batch_decode(labels, skip_special_tokens=True)\n",
    "\n",
    "    result = rouge.compute(predictions=decoded_preds, references=decoded_labels, use_stemmer=True)\n",
    "\n",
    "    prediction_lens = [np.count_nonzero(pred != tokenizer.pad_token_id) for pred in predictions]\n",
    "    result[\"gen_len\"] = np.mean(prediction_lens)\n",
    "\n",
    "    return {k: round(v, 4) for k, v in result.items()}"
   ]
  },
  {
   "cell_type": "code",
   "execution_count": 22,
   "id": "a7e72616",
   "metadata": {
    "scrolled": true
   },
   "outputs": [
    {
     "name": "stderr",
     "output_type": "stream",
     "text": [
      "PyTorch: setting up devices\n",
      "The default value for the training argument `--report_to` will change in v5 (from all installed integrations to none). In v5, you will need to use `--report_to all` to get the same behavior as now. You should start updating your code and make this info disappear :-).\n",
      "Cloning https://huggingface.co/Arjun2102/test_summarizer into local empty directory.\n"
     ]
    }
   ],
   "source": [
    "training_args = Seq2SeqTrainingArguments(\n",
    "    output_dir=\"Arjun2102/test_summarizer\",\n",
    "    evaluation_strategy=\"epoch\",\n",
    "    learning_rate=2e-5,\n",
    "    per_device_train_batch_size=16,\n",
    "    per_device_eval_batch_size=16,\n",
    "    weight_decay=0.01,\n",
    "    save_total_limit=3,\n",
    "    num_train_epochs=4,\n",
    "    predict_with_generate=True,\n",
    "    fp16=False,\n",
    "    push_to_hub=True,\n",
    ")\n",
    "\n"
   ]
  },
  {
   "cell_type": "code",
   "execution_count": null,
   "id": "a9d1f362",
   "metadata": {},
   "outputs": [],
   "source": [
    "trainer = Seq2SeqTrainer(\n",
    "    model=model,\n",
    "    args=training_args,\n",
    "    train_dataset=tokenized_billsum[\"train\"],\n",
    "    eval_dataset=tokenized_billsum[\"test\"],\n",
    "    tokenizer=tokenizer,\n",
    "    data_collator=data_collator,\n",
    "    compute_metrics=compute_metrics,\n",
    ")"
   ]
  },
  {
   "cell_type": "code",
   "execution_count": 23,
   "id": "9d6ba84c",
   "metadata": {},
   "outputs": [
    {
     "name": "stderr",
     "output_type": "stream",
     "text": [
      "The following columns in the training set don't have a corresponding argument in `T5ForConditionalGeneration.forward` and have been ignored: summary, text. If summary, text are not expected by `T5ForConditionalGeneration.forward`,  you can safely ignore this message.\n",
      "C:\\Users\\arjun\\anaconda3\\lib\\site-packages\\transformers\\optimization.py:306: FutureWarning: This implementation of AdamW is deprecated and will be removed in a future version. Use the PyTorch implementation torch.optim.AdamW instead, or set `no_deprecation_warning=True` to disable this warning\n",
      "  warnings.warn(\n",
      "***** Running training *****\n",
      "  Num examples = 8\n",
      "  Num Epochs = 4\n",
      "  Instantaneous batch size per device = 16\n",
      "  Total train batch size (w. parallel, distributed & accumulation) = 16\n",
      "  Gradient Accumulation steps = 1\n",
      "  Total optimization steps = 4\n",
      "  Number of trainable parameters = 60506624\n",
      "Automatic Weights & Biases logging enabled, to disable set os.environ[\"WANDB_DISABLED\"] = \"true\"\n",
      "\u001b[34m\u001b[1mwandb\u001b[0m: Currently logged in as: \u001b[33marjunrampalm2002\u001b[0m (\u001b[33mgeeky-void\u001b[0m). Use \u001b[1m`wandb login --relogin`\u001b[0m to force relogin\n"
     ]
    },
    {
     "data": {
      "text/html": [
       "Tracking run with wandb version 0.13.10"
      ],
      "text/plain": [
       "<IPython.core.display.HTML object>"
      ]
     },
     "metadata": {},
     "output_type": "display_data"
    },
    {
     "data": {
      "text/html": [
       "Run data is saved locally in <code>D:\\Final Year Project\\wandb\\run-20230220_162041-udme0w08</code>"
      ],
      "text/plain": [
       "<IPython.core.display.HTML object>"
      ]
     },
     "metadata": {},
     "output_type": "display_data"
    },
    {
     "data": {
      "text/html": [
       "Syncing run <strong><a href='https://wandb.ai/geeky-void/huggingface/runs/udme0w08' target=\"_blank\">eager-cherry-1</a></strong> to <a href='https://wandb.ai/geeky-void/huggingface' target=\"_blank\">Weights & Biases</a> (<a href='https://wandb.me/run' target=\"_blank\">docs</a>)<br/>"
      ],
      "text/plain": [
       "<IPython.core.display.HTML object>"
      ]
     },
     "metadata": {},
     "output_type": "display_data"
    },
    {
     "data": {
      "text/html": [
       " View project at <a href='https://wandb.ai/geeky-void/huggingface' target=\"_blank\">https://wandb.ai/geeky-void/huggingface</a>"
      ],
      "text/plain": [
       "<IPython.core.display.HTML object>"
      ]
     },
     "metadata": {},
     "output_type": "display_data"
    },
    {
     "data": {
      "text/html": [
       " View run at <a href='https://wandb.ai/geeky-void/huggingface/runs/udme0w08' target=\"_blank\">https://wandb.ai/geeky-void/huggingface/runs/udme0w08</a>"
      ],
      "text/plain": [
       "<IPython.core.display.HTML object>"
      ]
     },
     "metadata": {},
     "output_type": "display_data"
    },
    {
     "name": "stderr",
     "output_type": "stream",
     "text": [
      "You're using a T5TokenizerFast tokenizer. Please note that with a fast tokenizer, using the `__call__` method is faster than using a method to encode the text followed by a call to the `pad` method to get a padded encoding.\n"
     ]
    },
    {
     "data": {
      "text/html": [
       "\n",
       "    <div>\n",
       "      \n",
       "      <progress value='4' max='4' style='width:300px; height:20px; vertical-align: middle;'></progress>\n",
       "      [4/4 02:41, Epoch 4/4]\n",
       "    </div>\n",
       "    <table border=\"1\" class=\"dataframe\">\n",
       "  <thead>\n",
       " <tr style=\"text-align: left;\">\n",
       "      <th>Epoch</th>\n",
       "      <th>Training Loss</th>\n",
       "      <th>Validation Loss</th>\n",
       "      <th>Rouge1</th>\n",
       "      <th>Rouge2</th>\n",
       "      <th>Rougel</th>\n",
       "      <th>Rougelsum</th>\n",
       "      <th>Gen Len</th>\n",
       "    </tr>\n",
       "  </thead>\n",
       "  <tbody>\n",
       "    <tr>\n",
       "      <td>1</td>\n",
       "      <td>No log</td>\n",
       "      <td>4.643019</td>\n",
       "      <td>0.135500</td>\n",
       "      <td>0.037700</td>\n",
       "      <td>0.099900</td>\n",
       "      <td>0.099900</td>\n",
       "      <td>19.000000</td>\n",
       "    </tr>\n",
       "    <tr>\n",
       "      <td>2</td>\n",
       "      <td>No log</td>\n",
       "      <td>4.591436</td>\n",
       "      <td>0.135500</td>\n",
       "      <td>0.037700</td>\n",
       "      <td>0.099900</td>\n",
       "      <td>0.099900</td>\n",
       "      <td>19.000000</td>\n",
       "    </tr>\n",
       "    <tr>\n",
       "      <td>3</td>\n",
       "      <td>No log</td>\n",
       "      <td>4.556171</td>\n",
       "      <td>0.135500</td>\n",
       "      <td>0.037700</td>\n",
       "      <td>0.099900</td>\n",
       "      <td>0.099900</td>\n",
       "      <td>19.000000</td>\n",
       "    </tr>\n",
       "    <tr>\n",
       "      <td>4</td>\n",
       "      <td>No log</td>\n",
       "      <td>4.538184</td>\n",
       "      <td>0.135500</td>\n",
       "      <td>0.037700</td>\n",
       "      <td>0.099900</td>\n",
       "      <td>0.099900</td>\n",
       "      <td>19.000000</td>\n",
       "    </tr>\n",
       "  </tbody>\n",
       "</table><p>"
      ],
      "text/plain": [
       "<IPython.core.display.HTML object>"
      ]
     },
     "metadata": {},
     "output_type": "display_data"
    },
    {
     "name": "stderr",
     "output_type": "stream",
     "text": [
      "The following columns in the evaluation set don't have a corresponding argument in `T5ForConditionalGeneration.forward` and have been ignored: summary, text. If summary, text are not expected by `T5ForConditionalGeneration.forward`,  you can safely ignore this message.\n",
      "***** Running Evaluation *****\n",
      "  Num examples = 2\n",
      "  Batch size = 16\n",
      "Generate config GenerationConfig {\n",
      "  \"decoder_start_token_id\": 0,\n",
      "  \"eos_token_id\": 1,\n",
      "  \"pad_token_id\": 0,\n",
      "  \"transformers_version\": \"4.26.0\"\n",
      "}\n",
      "\n",
      "The following columns in the evaluation set don't have a corresponding argument in `T5ForConditionalGeneration.forward` and have been ignored: summary, text. If summary, text are not expected by `T5ForConditionalGeneration.forward`,  you can safely ignore this message.\n",
      "***** Running Evaluation *****\n",
      "  Num examples = 2\n",
      "  Batch size = 16\n",
      "Generate config GenerationConfig {\n",
      "  \"decoder_start_token_id\": 0,\n",
      "  \"eos_token_id\": 1,\n",
      "  \"pad_token_id\": 0,\n",
      "  \"transformers_version\": \"4.26.0\"\n",
      "}\n",
      "\n",
      "The following columns in the evaluation set don't have a corresponding argument in `T5ForConditionalGeneration.forward` and have been ignored: summary, text. If summary, text are not expected by `T5ForConditionalGeneration.forward`,  you can safely ignore this message.\n",
      "***** Running Evaluation *****\n",
      "  Num examples = 2\n",
      "  Batch size = 16\n",
      "Generate config GenerationConfig {\n",
      "  \"decoder_start_token_id\": 0,\n",
      "  \"eos_token_id\": 1,\n",
      "  \"pad_token_id\": 0,\n",
      "  \"transformers_version\": \"4.26.0\"\n",
      "}\n",
      "\n",
      "The following columns in the evaluation set don't have a corresponding argument in `T5ForConditionalGeneration.forward` and have been ignored: summary, text. If summary, text are not expected by `T5ForConditionalGeneration.forward`,  you can safely ignore this message.\n",
      "***** Running Evaluation *****\n",
      "  Num examples = 2\n",
      "  Batch size = 16\n",
      "Generate config GenerationConfig {\n",
      "  \"decoder_start_token_id\": 0,\n",
      "  \"eos_token_id\": 1,\n",
      "  \"pad_token_id\": 0,\n",
      "  \"transformers_version\": \"4.26.0\"\n",
      "}\n",
      "\n",
      "\n",
      "\n",
      "Training completed. Do not forget to share your model on huggingface.co/models =)\n",
      "\n",
      "\n"
     ]
    },
    {
     "data": {
      "text/plain": [
       "TrainOutput(global_step=4, training_loss=5.122552871704102, metrics={'train_runtime': 236.2127, 'train_samples_per_second': 0.135, 'train_steps_per_second': 0.017, 'total_flos': 8661875294208.0, 'train_loss': 5.122552871704102, 'epoch': 4.0})"
      ]
     },
     "execution_count": 23,
     "metadata": {},
     "output_type": "execute_result"
    }
   ],
   "source": [
    "trainer.train()"
   ]
  },
  {
   "cell_type": "code",
   "execution_count": 26,
   "id": "f4575314",
   "metadata": {},
   "outputs": [
    {
     "name": "stderr",
     "output_type": "stream",
     "text": [
      "Saving model checkpoint to Arjun2102/test_summarizer\n",
      "Configuration saved in Arjun2102/test_summarizer\\config.json\n",
      "Configuration saved in Arjun2102/test_summarizer\\generation_config.json\n",
      "Model weights saved in Arjun2102/test_summarizer\\pytorch_model.bin\n",
      "tokenizer config file saved in Arjun2102/test_summarizer\\tokenizer_config.json\n",
      "Special tokens file saved in Arjun2102/test_summarizer\\special_tokens_map.json\n",
      "Copy vocab file to Arjun2102/test_summarizer\\spiece.model\n"
     ]
    },
    {
     "data": {
      "application/vnd.jupyter.widget-view+json": {
       "model_id": "fb68f420bb2748cc86ee7991433c2399",
       "version_major": 2,
       "version_minor": 0
      },
      "text/plain": [
       "Upload file pytorch_model.bin:   0%|          | 32.0k/231M [00:00<?, ?B/s]"
      ]
     },
     "metadata": {},
     "output_type": "display_data"
    },
    {
     "data": {
      "application/vnd.jupyter.widget-view+json": {
       "model_id": "812253644df9420bbb54856e20fad86a",
       "version_major": 2,
       "version_minor": 0
      },
      "text/plain": [
       "Upload file training_args.bin: 100%|##########| 3.56k/3.56k [00:00<?, ?B/s]"
      ]
     },
     "metadata": {},
     "output_type": "display_data"
    },
    {
     "data": {
      "application/vnd.jupyter.widget-view+json": {
       "model_id": "90f171bce62748f694b00e86bb5579a6",
       "version_major": 2,
       "version_minor": 0
      },
      "text/plain": [
       "Upload file runs/Feb20_16-20-21_LAPTOP-SGNGK0NT/events.out.tfevents.1676890237.LAPTOP-SGNGK0NT.12476.0: 100%|#…"
      ]
     },
     "metadata": {},
     "output_type": "display_data"
    },
    {
     "data": {
      "application/vnd.jupyter.widget-view+json": {
       "model_id": "3c6658fd36c644fb8f16eca25049cc8f",
       "version_major": 2,
       "version_minor": 0
      },
      "text/plain": [
       "Upload file runs/Feb20_16-20-21_LAPTOP-SGNGK0NT/1676890237.2563534/events.out.tfevents.1676890237.LAPTOP-SGNGK…"
      ]
     },
     "metadata": {},
     "output_type": "display_data"
    },
    {
     "data": {
      "application/vnd.jupyter.widget-view+json": {
       "model_id": "fb04428422284207a875484473bc856a",
       "version_major": 2,
       "version_minor": 0
      },
      "text/plain": [
       "Upload file spiece.model:   4%|4         | 32.0k/773k [00:00<?, ?B/s]"
      ]
     },
     "metadata": {},
     "output_type": "display_data"
    },
    {
     "name": "stderr",
     "output_type": "stream",
     "text": [
      "remote: Scanning LFS files for validity...        \n",
      "remote: LFS file scan complete.        \n",
      "To https://huggingface.co/Arjun2102/test_summarizer\n",
      "   ec01fad..6ebbfd6  main -> main\n",
      "\n",
      "WARNING:huggingface_hub.repository:remote: Scanning LFS files for validity...        \n",
      "remote: LFS file scan complete.        \n",
      "To https://huggingface.co/Arjun2102/test_summarizer\n",
      "   ec01fad..6ebbfd6  main -> main\n",
      "\n",
      "To https://huggingface.co/Arjun2102/test_summarizer\n",
      "   6ebbfd6..b6254d2  main -> main\n",
      "\n",
      "WARNING:huggingface_hub.repository:To https://huggingface.co/Arjun2102/test_summarizer\n",
      "   6ebbfd6..b6254d2  main -> main\n",
      "\n"
     ]
    },
    {
     "data": {
      "text/plain": [
       "'https://huggingface.co/Arjun2102/test_summarizer/commit/6ebbfd6f1314a0a7c10e94e929a38444d10c8085'"
      ]
     },
     "execution_count": 26,
     "metadata": {},
     "output_type": "execute_result"
    }
   ],
   "source": [
    "trainer.push_to_hub()"
   ]
  },
  {
   "cell_type": "code",
   "execution_count": 30,
   "id": "3f4b4ad9",
   "metadata": {},
   "outputs": [],
   "source": [
    "text = '''Cricket is a bat-and-ball game played between two teams of eleven players on a field at the centre of which is a 22-yard (20-metre) pitch with a wicket at each end, each comprising two bails balanced on three stumps. The batting side scores runs by striking the ball bowled at one of the wickets with the bat and then running between the wickets, while the bowling and fielding side tries to prevent this (by preventing the ball from leaving the field, and getting the ball to either wicket) and dismiss each batter (so they are \"out\"). Means of dismissal include being bowled, when the ball hits the stumps and dislodges the bails, and by the fielding side either catching the ball after it is hit by the bat, but before it hits the ground, or hitting a wicket with the ball before a batter can cross the crease in front of the wicket. When ten batters have been dismissed, the innings ends and the teams swap roles. The game is adjudicated by two umpires, aided by a third umpire and match referee in international matches. They communicate with two off-field scorers who record the match's statistical information.\n",
    "\n",
    "Forms of cricket range from Twenty20, with each team batting for a single innings of 20 overs (each \"over\" being a set of 6 fair opportunities for the batting team to score) and the game generally lasting three hours, to Test matches played over five days. Traditionally cricketers play in all-white kit, but in limited overs cricket they wear club or team colours. In addition to the basic kit, some players wear protective gear to prevent injury caused by the ball, which is a hard, solid spheroid made of compressed leather with a slightly raised sewn seam enclosing a cork core layered with tightly wound string.\n",
    "\n",
    "The earliest reference to cricket is in South East England in the mid-16th century. It spread globally with the expansion of the British Empire, with the first international matches in the second half of the 19th century. The game's governing body is the International Cricket Council (ICC), which has over 100 members, twelve of which are full members who play Test matches. The game's rules, the Laws of Cricket, are maintained by Marylebone Cricket Club (MCC) in London. The sport is followed primarily in South Asia, Australasia, the United Kingdom, Southern Africa and the West Indies.[1]\n",
    "\n",
    "Women's cricket, which is organised and played separately, has also achieved international standard. The most successful side playing international cricket is Australia, which has won seven One Day International trophies, including five World Cups, more than any other country and has been the top-rated Test side more than any other country.'''"
   ]
  },
  {
   "cell_type": "code",
   "execution_count": 31,
   "id": "8c64df7a",
   "metadata": {},
   "outputs": [
    {
     "name": "stderr",
     "output_type": "stream",
     "text": [
      "loading configuration file Arjun2102/test_summarizer\\config.json\n",
      "Model config T5Config {\n",
      "  \"_name_or_path\": \"Arjun2102/test_summarizer\",\n",
      "  \"architectures\": [\n",
      "    \"T5ForConditionalGeneration\"\n",
      "  ],\n",
      "  \"d_ff\": 2048,\n",
      "  \"d_kv\": 64,\n",
      "  \"d_model\": 512,\n",
      "  \"decoder_start_token_id\": 0,\n",
      "  \"dense_act_fn\": \"relu\",\n",
      "  \"dropout_rate\": 0.1,\n",
      "  \"eos_token_id\": 1,\n",
      "  \"feed_forward_proj\": \"relu\",\n",
      "  \"initializer_factor\": 1.0,\n",
      "  \"is_encoder_decoder\": true,\n",
      "  \"is_gated_act\": false,\n",
      "  \"layer_norm_epsilon\": 1e-06,\n",
      "  \"model_type\": \"t5\",\n",
      "  \"n_positions\": 512,\n",
      "  \"num_decoder_layers\": 6,\n",
      "  \"num_heads\": 8,\n",
      "  \"num_layers\": 6,\n",
      "  \"output_past\": true,\n",
      "  \"pad_token_id\": 0,\n",
      "  \"relative_attention_max_distance\": 128,\n",
      "  \"relative_attention_num_buckets\": 32,\n",
      "  \"task_specific_params\": {\n",
      "    \"summarization\": {\n",
      "      \"early_stopping\": true,\n",
      "      \"length_penalty\": 2.0,\n",
      "      \"max_length\": 200,\n",
      "      \"min_length\": 30,\n",
      "      \"no_repeat_ngram_size\": 3,\n",
      "      \"num_beams\": 4,\n",
      "      \"prefix\": \"summarize: \"\n",
      "    },\n",
      "    \"translation_en_to_de\": {\n",
      "      \"early_stopping\": true,\n",
      "      \"max_length\": 300,\n",
      "      \"num_beams\": 4,\n",
      "      \"prefix\": \"translate English to German: \"\n",
      "    },\n",
      "    \"translation_en_to_fr\": {\n",
      "      \"early_stopping\": true,\n",
      "      \"max_length\": 300,\n",
      "      \"num_beams\": 4,\n",
      "      \"prefix\": \"translate English to French: \"\n",
      "    },\n",
      "    \"translation_en_to_ro\": {\n",
      "      \"early_stopping\": true,\n",
      "      \"max_length\": 300,\n",
      "      \"num_beams\": 4,\n",
      "      \"prefix\": \"translate English to Romanian: \"\n",
      "    }\n",
      "  },\n",
      "  \"torch_dtype\": \"float32\",\n",
      "  \"transformers_version\": \"4.26.0\",\n",
      "  \"use_cache\": true,\n",
      "  \"vocab_size\": 32128\n",
      "}\n",
      "\n",
      "loading configuration file Arjun2102/test_summarizer\\config.json\n",
      "Model config T5Config {\n",
      "  \"_name_or_path\": \"Arjun2102/test_summarizer\",\n",
      "  \"architectures\": [\n",
      "    \"T5ForConditionalGeneration\"\n",
      "  ],\n",
      "  \"d_ff\": 2048,\n",
      "  \"d_kv\": 64,\n",
      "  \"d_model\": 512,\n",
      "  \"decoder_start_token_id\": 0,\n",
      "  \"dense_act_fn\": \"relu\",\n",
      "  \"dropout_rate\": 0.1,\n",
      "  \"eos_token_id\": 1,\n",
      "  \"feed_forward_proj\": \"relu\",\n",
      "  \"initializer_factor\": 1.0,\n",
      "  \"is_encoder_decoder\": true,\n",
      "  \"is_gated_act\": false,\n",
      "  \"layer_norm_epsilon\": 1e-06,\n",
      "  \"model_type\": \"t5\",\n",
      "  \"n_positions\": 512,\n",
      "  \"num_decoder_layers\": 6,\n",
      "  \"num_heads\": 8,\n",
      "  \"num_layers\": 6,\n",
      "  \"output_past\": true,\n",
      "  \"pad_token_id\": 0,\n",
      "  \"relative_attention_max_distance\": 128,\n",
      "  \"relative_attention_num_buckets\": 32,\n",
      "  \"task_specific_params\": {\n",
      "    \"summarization\": {\n",
      "      \"early_stopping\": true,\n",
      "      \"length_penalty\": 2.0,\n",
      "      \"max_length\": 200,\n",
      "      \"min_length\": 30,\n",
      "      \"no_repeat_ngram_size\": 3,\n",
      "      \"num_beams\": 4,\n",
      "      \"prefix\": \"summarize: \"\n",
      "    },\n",
      "    \"translation_en_to_de\": {\n",
      "      \"early_stopping\": true,\n",
      "      \"max_length\": 300,\n",
      "      \"num_beams\": 4,\n",
      "      \"prefix\": \"translate English to German: \"\n",
      "    },\n",
      "    \"translation_en_to_fr\": {\n",
      "      \"early_stopping\": true,\n",
      "      \"max_length\": 300,\n",
      "      \"num_beams\": 4,\n",
      "      \"prefix\": \"translate English to French: \"\n",
      "    },\n",
      "    \"translation_en_to_ro\": {\n",
      "      \"early_stopping\": true,\n",
      "      \"max_length\": 300,\n",
      "      \"num_beams\": 4,\n",
      "      \"prefix\": \"translate English to Romanian: \"\n",
      "    }\n",
      "  },\n",
      "  \"torch_dtype\": \"float32\",\n",
      "  \"transformers_version\": \"4.26.0\",\n",
      "  \"use_cache\": true,\n",
      "  \"vocab_size\": 32128\n",
      "}\n",
      "\n",
      "loading weights file Arjun2102/test_summarizer\\pytorch_model.bin\n",
      "Generate config GenerationConfig {\n",
      "  \"decoder_start_token_id\": 0,\n",
      "  \"eos_token_id\": 1,\n",
      "  \"pad_token_id\": 0,\n",
      "  \"transformers_version\": \"4.26.0\"\n",
      "}\n",
      "\n",
      "All model checkpoint weights were used when initializing T5ForConditionalGeneration.\n",
      "\n",
      "All the weights of T5ForConditionalGeneration were initialized from the model checkpoint at Arjun2102/test_summarizer.\n",
      "If your task is similar to the task the model of the checkpoint was trained on, you can already use T5ForConditionalGeneration for predictions without further training.\n",
      "loading configuration file Arjun2102/test_summarizer\\generation_config.json\n",
      "Generate config GenerationConfig {\n",
      "  \"_from_model_config\": true,\n",
      "  \"decoder_start_token_id\": 0,\n",
      "  \"eos_token_id\": 1,\n",
      "  \"pad_token_id\": 0,\n",
      "  \"transformers_version\": \"4.26.0\"\n",
      "}\n",
      "\n",
      "loading file spiece.model\n",
      "loading file tokenizer.json\n",
      "loading file added_tokens.json\n",
      "loading file special_tokens_map.json\n",
      "loading file tokenizer_config.json\n",
      "Token indices sequence length is longer than the specified maximum sequence length for this model (625 > 512). Running this sequence through the model will result in indexing errors\n",
      "Generate config GenerationConfig {\n",
      "  \"decoder_start_token_id\": 0,\n",
      "  \"early_stopping\": true,\n",
      "  \"eos_token_id\": 1,\n",
      "  \"length_penalty\": 2.0,\n",
      "  \"max_length\": 200,\n",
      "  \"min_length\": 30,\n",
      "  \"no_repeat_ngram_size\": 3,\n",
      "  \"num_beams\": 4,\n",
      "  \"pad_token_id\": 0,\n",
      "  \"transformers_version\": \"4.26.0\"\n",
      "}\n",
      "\n"
     ]
    },
    {
     "data": {
      "text/plain": [
       "[{'summary_text': 'cricket is played between two teams of eleven players on a 22-yard (20-metre) pitch . each wicket comprises two bails balanced on three stumps . ten batters have been dismissed, the innings ends and the teams swap roles .'}]"
      ]
     },
     "execution_count": 31,
     "metadata": {},
     "output_type": "execute_result"
    }
   ],
   "source": [
    "summarizer = pipeline(\"summarization\", model = \"Arjun2102/test_summarizer\")\n",
    "summarizer(text)"
   ]
  },
  {
   "cell_type": "code",
   "execution_count": null,
   "id": "0a85b327",
   "metadata": {},
   "outputs": [],
   "source": []
  }
 ],
 "metadata": {
  "kernelspec": {
   "display_name": "Python 3 (ipykernel)",
   "language": "python",
   "name": "python3"
  },
  "language_info": {
   "codemirror_mode": {
    "name": "ipython",
    "version": 3
   },
   "file_extension": ".py",
   "mimetype": "text/x-python",
   "name": "python",
   "nbconvert_exporter": "python",
   "pygments_lexer": "ipython3",
   "version": "3.9.13"
  }
 },
 "nbformat": 4,
 "nbformat_minor": 5
}
